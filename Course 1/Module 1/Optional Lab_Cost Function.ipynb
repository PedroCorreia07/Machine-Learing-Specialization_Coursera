{
 "cells": [
  {
   "cell_type": "code",
   "execution_count": 4,
   "metadata": {},
   "outputs": [],
   "source": [
    "import numpy as np\n",
    "import matplotlib.pyplot as plt"
   ]
  },
  {
   "cell_type": "code",
   "execution_count": 5,
   "metadata": {},
   "outputs": [
    {
     "name": "stdout",
     "output_type": "stream",
     "text": [
      "x_train=[1. 2.]\n",
      "y_train=[300 500]\n"
     ]
    }
   ],
   "source": [
    "x_train=np.array([1.0,2.0])\n",
    "y_train=np.array([300,500])\n",
    "print(f\"x_train={x_train}\")\n",
    "print(f\"y_train={y_train}\")\n"
   ]
  }
 ],
 "metadata": {
  "kernelspec": {
   "display_name": "Python 3",
   "language": "python",
   "name": "python3"
  },
  "language_info": {
   "codemirror_mode": {
    "name": "ipython",
    "version": 3
   },
   "file_extension": ".py",
   "mimetype": "text/x-python",
   "name": "python",
   "nbconvert_exporter": "python",
   "pygments_lexer": "ipython3",
   "version": "3.11.2"
  },
  "orig_nbformat": 4,
  "vscode": {
   "interpreter": {
    "hash": "b93d7f58fa87cccc1c54a1bb58fde30533742810013d86233f92d0fba50587f2"
   }
  }
 },
 "nbformat": 4,
 "nbformat_minor": 2
}
