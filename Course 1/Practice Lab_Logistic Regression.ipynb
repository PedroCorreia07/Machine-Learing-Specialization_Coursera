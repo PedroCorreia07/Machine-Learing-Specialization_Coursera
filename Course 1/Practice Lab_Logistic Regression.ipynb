{
 "cells": [
  {
   "attachments": {},
   "cell_type": "markdown",
   "metadata": {},
   "source": [
    "1. IMPORT PACKAGES"
   ]
  },
  {
   "cell_type": "code",
   "execution_count": 33,
   "metadata": {},
   "outputs": [],
   "source": [
    "import numpy as np\n",
    "import matplotlib.pyplot as plt\n",
    "import copy\n",
    "import math\n",
    "\n",
    "%matplotlib inline "
   ]
  },
  {
   "attachments": {},
   "cell_type": "markdown",
   "metadata": {},
   "source": [
    "2. LOGISTIC REGRESSION"
   ]
  },
  {
   "attachments": {},
   "cell_type": "markdown",
   "metadata": {},
   "source": [
    "LOADING DATA"
   ]
  },
  {
   "cell_type": "code",
   "execution_count": 34,
   "metadata": {},
   "outputs": [],
   "source": [
    "def load_data():\n",
    "    data=np.loadtxt(r'C:/Users/pedro\\source/repos/PedroCorreia07/Machine Learing Specialization_Coursera/Course 1\\data_logistic regression/ex2data1.txt', delimiter=',')\n",
    "    X=data[:,:2] #creates a new NumPy array X which contains all the rows of data, but only the first two columns (0 and 1). Here, the syntax [:,:2] means to select all rows (:) and the first two columns (:2), so it effectively selects only the feature columns.\n",
    "    y=data[:,2] #creates a new NumPy array y which contains all the rows of data, but only the third column (2). So, it effectively selects only the target column\n",
    "    return X,y"
   ]
  },
  {
   "cell_type": "code",
   "execution_count": 35,
   "metadata": {},
   "outputs": [],
   "source": [
    "#load dataset using function load_data\n",
    "x_train, y_train=load_data()"
   ]
  },
  {
   "cell_type": "code",
   "execution_count": 36,
   "metadata": {},
   "outputs": [
    {
     "name": "stdout",
     "output_type": "stream",
     "text": [
      "First five elements in x_train are:\n",
      " [[34.62365962 78.02469282]\n",
      " [30.28671077 43.89499752]\n",
      " [35.84740877 72.90219803]\n",
      " [60.18259939 86.3085521 ]\n",
      " [79.03273605 75.34437644]]\n",
      "The type of x_train: <class 'numpy.ndarray'>\n",
      "First five elements in y_train are:\n",
      " [0. 0. 0. 1. 1.]\n",
      "The type of y_train: <class 'numpy.ndarray'>\n"
     ]
    }
   ],
   "source": [
    "print(\"First five elements in x_train are:\\n\",x_train[:5])\n",
    "print(\"The type of x_train:\",type(x_train))\n",
    "print(\"First five elements in y_train are:\\n\",y_train[:5])\n",
    "print(\"The type of y_train:\",type(y_train))"
   ]
  },
  {
   "cell_type": "code",
   "execution_count": 37,
   "metadata": {},
   "outputs": [
    {
     "name": "stdout",
     "output_type": "stream",
     "text": [
      "The shape of x_train is:(100, 2)\n",
      "The shape of y_train is:(100,)\n",
      "The number of training examples is m=100\n"
     ]
    }
   ],
   "source": [
    "print(\"The shape of x_train is:\"+str(x_train.shape))\n",
    "print(\"The shape of y_train is:\"+str(y_train.shape))\n",
    "print(\"The number of training examples is m=\" + str(len(y_train)))"
   ]
  },
  {
   "attachments": {},
   "cell_type": "markdown",
   "metadata": {},
   "source": [
    "VIZUALIZE DATA"
   ]
  },
  {
   "attachments": {},
   "cell_type": "markdown",
   "metadata": {},
   "source": [
    "Scatter plot function for classification  \n",
    "x[positive, 0] selects the rows in x where y=\"positive\" is \"True\" and takes the first column (0) of those rows  \n",
    "x[positive, 1] selects the rows in x where y=\"positive\" is \"True\" and takes the second column (0) of those rows\n"
   ]
  },
  {
   "cell_type": "code",
   "execution_count": 38,
   "metadata": {},
   "outputs": [],
   "source": [
    "def plot_data(x,y,positive_label=\"y=1\",negative_label=\"y=0\"):\n",
    "    positive=y==1\n",
    "    negative=y==0\n",
    "\n",
    "    #plot examples\n",
    "    plt.plot(x[positive,0],x[positive,1],\"k+\",label=positive_label)\n",
    "    plt.plot(x[negative,0],x[negative,1],\"yo\",label=negative_label)"
   ]
  },
  {
   "cell_type": "code",
   "execution_count": 39,
   "metadata": {},
   "outputs": [
    {
     "data": {
      "image/png": "[encoded data removed]",
      "text/plain": [
       "<Figure size 640x480 with 1 Axes>"
      ]
     },
     "metadata": {},
     "output_type": "display_data"
    }
   ],
   "source": [
    "plot_data(x_train,y_train,positive_label=\"Admitted\",negative_label=\"Not admitted\")\n",
    "plt.ylabel(\"Exam 2 score\")\n",
    "plt.xlabel(\"Exam 1 score\")\n",
    "plt.legend(loc=\"upper right\") #creates the legend on the upper right corner\n",
    "plt.show()"
   ]
  },
  {
   "attachments": {},
   "cell_type": "markdown",
   "metadata": {},
   "source": [
    "SIGMOID FUNCTION\n",
    "\n",
    "For logistic regression, the model is represented as $f_{w,b}(x) = g(w.x + b)$\n",
    "    \n",
    "To define the sigmoid function: $g(z) = \\frac{1}{1-e^{-z}}$\n"
   ]
  },
  {
   "cell_type": "code",
   "execution_count": 40,
   "metadata": {},
   "outputs": [],
   "source": [
    "def sigmoid(z):\n",
    "    g=1/(1+np.exp(-z))\n",
    "    return g\n"
   ]
  },
  {
   "attachments": {},
   "cell_type": "markdown",
   "metadata": {},
   "source": [
    "COST FUNCTION FOR LOGISTIC REGRESSION  \n",
    "\n",
    "\n",
    "Define cost funcion for logistic regression as $J(w,b) = \\frac{1}{m}\\sum \\limits _{i=0} ^{m-1} [loss(f_{w,b}(x^{(i)}),y^{(i)})]$  \n",
    "  \n",
    "the cost for a single data poin is:  $loss(f_{w,b}(x^{(i)}),y^{(i)})=(-y^{(i)}log(f_{w,b}(x^{(i)}))-(1-y^{(i)})log(1-f_{w,b}(x^{(i)}))$"
   ]
  },
  {
   "cell_type": "code",
   "execution_count": 41,
   "metadata": {},
   "outputs": [],
   "source": [
    "def compute_cost(x,y,w,b,lambda_=1):\n",
    "    m,n=x.shape #m is the number of rows and n is the number of columns\n",
    "    cost=0\n",
    "    for i in range(m):\n",
    "        z=np.dot(x[i],w)+b #np.dot() is a NumPy function used to perform matrix multiplication. In this case, x[i] is a row vector of features for the i-th example, w is a column vector of weights\n",
    "        f_wb=sigmoid(z)\n",
    "        cost+=-y[i]*np.log(f_wb)-(1-y[i])*np.log(1-f_wb)\n",
    "    total_cost=cost/m\n",
    "    \n",
    "    return total_cost\n"
   ]
  },
  {
   "cell_type": "code",
   "execution_count": 42,
   "metadata": {},
   "outputs": [
    {
     "name": "stdout",
     "output_type": "stream",
     "text": [
      "The cost at initial w(zeros) is: 0.693\n"
     ]
    }
   ],
   "source": [
    "#Compute and display the cost with w initialized to zeros\n",
    "m,n=x_train.shape\n",
    "\n",
    "initial_w=np.zeros(n) #n=2 and corresponds to the number of columns(features) \n",
    "initial_b=0.\n",
    "cost=compute_cost(x_train,y_train,initial_w,initial_b)\n",
    "print(\"The cost at initial w(zeros) is: %.3f\" %(cost))"
   ]
  },
  {
   "attachments": {},
   "cell_type": "markdown",
   "metadata": {},
   "source": [
    "\n",
    "GRADIENT FOR LOGISTIC REGRESSION  \n",
    "\n",
    "the gradient descent algorithm is: repeat until convergence: for j: =0..n-1  \n",
    "  \n",
    "$b: =b-\\alpha \\frac{\\partial J(w,b)}{\\partial b}$  \n",
    "  \n",
    "  \n",
    "$w_j: =w_j-\\alpha \\frac{\\partial J(w,b)}{\\partial w_{j}}$  \n",
    "  \n",
    "  \n",
    "\n",
    "recall that:  \n",
    "  \n",
    "\n",
    "$\\frac{\\partial J(w,b)}{\\partial b}= \\frac{1}{m} \\sum \\limits _{i=0} ^{m-1} (f_{w,b}(x^{(i)})-y^{(i)})$  \n",
    "  \n",
    "\n",
    "$\\frac{\\partial J(w,b)}{\\partial w_{j}}= \\frac{1}{m} \\sum \\limits _{i=0} ^{m-1} (f_{w,b}(x^{(i)})-y^{(i)})x_{j}^{(i)})$\n",
    "\n"
   ]
  },
  {
   "cell_type": "code",
   "execution_count": 43,
   "metadata": {},
   "outputs": [],
   "source": [
    "def compute_gradient(x,y,w,b,lambda_=None):\n",
    "    m,n=x.shape #m is the number of rows and n is the number of columns\n",
    "    dj_dw=np.zeros(w.shape) #dj_dw will accumulate the gradient values for each sample, it is initialized as an array of zeros with the same shape as w\n",
    "    dj_db=0. #dj_dw and dj_db are initialized with zeros because they will be updated inside a loop.\n",
    "\n",
    "    for i in range(m):\n",
    "        f_wb_i=sigmoid(np.dot(x[i],w)+b)\n",
    "        err_i=f_wb_i-y[i]\n",
    "        for j in range(n):\n",
    "            dj_dw[j]+=+err_i*x[i,j]\n",
    "        dj_db+=err_i\n",
    "    dj_dw/=m\n",
    "    dj_db/=m\n",
    "\n",
    "    return dj_db,dj_dw\n"
   ]
  },
  {
   "cell_type": "code",
   "execution_count": 44,
   "metadata": {},
   "outputs": [
    {
     "name": "stdout",
     "output_type": "stream",
     "text": [
      "dj_db at initial w (zeros) is: -0.1\n",
      "dj_dw at initial w (zeros) is: [-12.00921659 -11.26284221]\n"
     ]
    }
   ],
   "source": [
    "#Compute and display gradient with w initialized to zeros\n",
    "\n",
    "initial_w=np.zeros(n)\n",
    "initial_b=0.\n",
    "\n",
    "dj_db,dj_dw=compute_gradient(x_train,y_train,initial_w,initial_b)\n",
    "print(f\"dj_db at initial w (zeros) is: {dj_db}\")\n",
    "print(f\"dj_dw at initial w (zeros) is: {dj_dw}\")"
   ]
  },
  {
   "attachments": {},
   "cell_type": "markdown",
   "metadata": {},
   "source": [
    "LEARNING PARAMETERS USING GRADIENT DESCENT"
   ]
  },
  {
   "cell_type": "code",
   "execution_count": 45,
   "metadata": {},
   "outputs": [],
   "source": [
    "def gradient_descent(x,y,w_in,b_in,cost_function,gradient_function,alpha,num_iterations,lambda_):\n",
    "    m=len(x) #number of training examples\n",
    "    \n",
    "    #An array to store cost J and w's at each iteration \n",
    "    J_history=[]\n",
    "    w_history=[]\n",
    "    \n",
    "    for i in range(num_iterations):\n",
    "        dj_db,dj_dw=gradient_function(x,y,w_in,b_in,lambda_)  #Calculate the gradient and update the parameters\n",
    "        w_in=w_in-alpha*dj_dw # Update Parameters using w, b, alpha and gradient\n",
    "        b_in=b_in-alpha*dj_db\n",
    "        \n",
    "        if i<100000: #In practice, the value 100000 can be adjusted depending on the size of the dataset and the computational resources available. If the dataset is small, a smaller value can be used, while a larger value can be used for larger datasets. It is also possible to remove this condition altogether and store the cost at every iteration if memory is not a concern.\n",
    "            cost=cost_function(x,y,w_in,b_in,lambda_)\n",
    "            J_history.append(cost) #is appending the current value of the cost function to the end of the list J_history. This list is used to keep track of the cost function values at each iteration of the gradient descent algorithm. Later, this list can be used to plot the change in cost function with respect to the number of iterations.\n",
    "        if i%math.ceil(num_iterations/10)==0 or i==(num_iterations-1): #checks if the current iteration number i is a multiple of num_iters/10. This condition is true for every 10% of the total iterations of the iterations or the last iteration      \n",
    "            w_history.append(w_in)\n",
    "            print(f\"Iteration {i:4} Cost {float(J_history[-1]):8.2f}\") #prints the iteration number and the current cost of the model, which is the last element in the J_history list. The {i:4} specifies that the variable i should be formatted with a width of 4 characters and :8.2f that the cost should be formatted as a float with a width of 8 characters and 2 decimal places.\n",
    "\n",
    "    return w_in,b_in,J_history,w_history\n",
    "\n",
    "\n"
   ]
  },
  {
   "cell_type": "code",
   "execution_count": 46,
   "metadata": {},
   "outputs": [
    {
     "name": "stdout",
     "output_type": "stream",
     "text": [
      "Iteration    0 Cost     0.68\n",
      "Iteration 1000 Cost     0.31\n",
      "Iteration 2000 Cost     0.30\n",
      "Iteration 3000 Cost     0.30\n",
      "Iteration 4000 Cost     0.30\n",
      "Iteration 5000 Cost     0.30\n",
      "Iteration 6000 Cost     0.30\n",
      "Iteration 7000 Cost     0.30\n",
      "Iteration 8000 Cost     0.30\n",
      "Iteration 9000 Cost     0.30\n",
      "Iteration 9999 Cost     0.30\n",
      "w,b found by gradient descent: [0.07125399 0.06482932] -8.188679359279176\n"
     ]
    }
   ],
   "source": [
    "np.random.seed(1) #By setting the seed, you are fixing the sequence of random numbers that will be generated, allowing you to reproduce the same results each time the code is run. It's useful to debug and test the code and to ensure that the random initialization of your model's parameters is consistent across multiple runs.\n",
    "initial_w=0.01 * (np.random.rand(2)) # initialize the weight parameters with some random values. This is done to avoid the problem of symmetrical weights, which can result in neurons learning the same features during training, leading to poor performance of the model. Initializing the weights with random values breaks the symmetry and allows neurons to learn different features during training.\n",
    "initial_b=-8 # is also set to a non-zero value to break the symmetry and improve performance.\n",
    "\n",
    "iterations=10000\n",
    "alpha=0.001\n",
    "\n",
    "w,b,J_history,_=gradient_descent(x_train,y_train,initial_w,initial_b,compute_cost,compute_gradient,alpha,iterations,0)\n",
    "print(\"w,b found by gradient descent:\",w,b)"
   ]
  },
  {
   "attachments": {},
   "cell_type": "markdown",
   "metadata": {},
   "source": [
    "PLOTTING THE DECISION BOUNDARY"
   ]
  },
  {
   "cell_type": "code",
   "execution_count": 47,
   "metadata": {},
   "outputs": [],
   "source": [
    "def map_feature(X1, X2):\n",
    "    \"\"\"\n",
    "    Feature mapping function to polynomial features    \n",
    "    \"\"\"\n",
    "    X1 = np.atleast_1d(X1)\n",
    "    X2 = np.atleast_1d(X2)\n",
    "    degree = 6\n",
    "    out = []\n",
    "    for i in range(1, degree+1):\n",
    "        for j in range(i + 1):\n",
    "            out.append((X1**(i-j) * (X2**j)))\n",
    "    return np.stack(out, axis=1)"
   ]
  },
  {
   "cell_type": "code",
   "execution_count": 48,
   "metadata": {},
   "outputs": [],
   "source": [
    "def plot_decision_boundary(w, b, x, y):\n",
    "    # Credit to dibgerge on Github for this plotting code\n",
    "     \n",
    "    plot_data(x[:, 0:2], y)\n",
    "    \n",
    "    if x.shape[1] <= 2:\n",
    "        plot_x = np.array([min(x[:, 0]), max(x[:, 0])])\n",
    "        plot_y = (-1. / w[1]) * (w[0] * plot_x + b)\n",
    "        \n",
    "        plt.plot(plot_x, plot_y, c=\"b\")\n",
    "        \n",
    "    else:\n",
    "        u = np.linspace(-1, 1.5, 50)\n",
    "        v = np.linspace(-1, 1.5, 50)\n",
    "        \n",
    "        z = np.zeros((len(u), len(v)))\n",
    "\n",
    "        # Evaluate z = theta*x over the grid\n",
    "        for i in range(len(u)):\n",
    "            for j in range(len(v)):\n",
    "                z[i,j] = sig(np.dot(map_feature(u[i], v[j]), w) + b)\n",
    "        \n",
    "        # important to transpose z before calling contour       \n",
    "        z = z.T\n",
    "        \n",
    "        # Plot z = 0\n",
    "        plt.contour(u,v,z, levels = [0.5], colors=\"g\")"
   ]
  },
  {
   "cell_type": "code",
   "execution_count": 49,
   "metadata": {},
   "outputs": [
    {
     "data": {
      "image/png": "[encoded data removed]",
      "text/plain": [
       "<Figure size 640x480 with 1 Axes>"
      ]
     },
     "metadata": {},
     "output_type": "display_data"
    }
   ],
   "source": [
    "plot_decision_boundary(w,b,x_train,y_train)"
   ]
  },
  {
   "attachments": {},
   "cell_type": "markdown",
   "metadata": {},
   "source": [
    "EVALUATING LOGISTIC REGRESSION"
   ]
  },
  {
   "attachments": {},
   "cell_type": "markdown",
   "metadata": {},
   "source": [
    "$f(x^{(i)}) = g(w.x^{(i)})$  \n",
    "\n",
    "\n",
    "We interpret the output of the model $f(x^{(i)})$ as the probability that $y^{(i)}=1$ given $x^{(i)}$ and parameterized by w.  \n",
    "\n",
    "To get the final prediction $y^{(i)}=0$ or $y^{(i)}=1$ from logistic regression model, we can use:  \n",
    "  \n",
    "if $f(x^{(i)})>=0.5$, predict $y^{(i)}=1$  \n",
    "  \n",
    "if $f(x^{(i)})<0.5$, predict $y^{(i)}=0$  \n"
   ]
  },
  {
   "cell_type": "code",
   "execution_count": 50,
   "metadata": {},
   "outputs": [],
   "source": [
    "def predict(x,w,b):\n",
    "    m,n=x.shape\n",
    "    p=np.zeros(m)\n",
    "\n",
    "    for i in range(m):\n",
    "        z_wb=np.dot(x[i],w)\n",
    "        z_wb+=b\n",
    "        f_wb=sigmoid(z_wb)\n",
    "        p[i]=1 if f_wb>=0.5 else 0\n",
    "    return p"
   ]
  },
  {
   "cell_type": "code",
   "execution_count": 51,
   "metadata": {},
   "outputs": [
    {
     "name": "stdout",
     "output_type": "stream",
     "text": [
      "Train accuracy:92.000000\n"
     ]
    }
   ],
   "source": [
    "p=predict(x_train,w,b)\n",
    "print('Train accuracy:%f'%(np.mean(p==y_train)*100))"
   ]
  },
  {
   "attachments": {},
   "cell_type": "markdown",
   "metadata": {},
   "source": [
    "Test Predict Function"
   ]
  },
  {
   "cell_type": "code",
   "execution_count": 52,
   "metadata": {},
   "outputs": [
    {
     "name": "stdout",
     "output_type": "stream",
     "text": [
      "[1.]\n"
     ]
    }
   ],
   "source": [
    "x_test = np.array([[40, 90]])  # Convert the list to a NumPy array\n",
    "print(predict(x_test,w,b))"
   ]
  },
  {
   "attachments": {},
   "cell_type": "markdown",
   "metadata": {},
   "source": [
    "REGULARIZED LOGISTIC REGRESSION couldn't finish\n"
   ]
  },
  {
   "cell_type": "code",
   "execution_count": 53,
   "metadata": {},
   "outputs": [],
   "source": [
    "def load_data():\n",
    "    data=np.loadtxt(r'C:/Users/pedro\\source/repos/PedroCorreia07/Machine Learing Specialization_Coursera/Course 1\\data_logistic regression/ex2data2.txt', delimiter=',')\n",
    "    X=data[:,:2] #creates a new NumPy array X which contains all the rows of data, but only the first two columns (0 and 1). Here, the syntax [:,:2] means to select all rows (:) and the first two columns (:2), so it effectively selects only the feature columns.\n",
    "    y=data[:,2] #creates a new NumPy array y which contains all the rows of data, but only the third column (2). So, it effectively selects only the target column\n",
    "    return X,y"
   ]
  },
  {
   "cell_type": "code",
   "execution_count": 54,
   "metadata": {},
   "outputs": [],
   "source": [
    "x_train, y_train=load_data()"
   ]
  },
  {
   "cell_type": "code",
   "execution_count": 55,
   "metadata": {},
   "outputs": [
    {
     "name": "stdout",
     "output_type": "stream",
     "text": [
      "x_train [[ 0.051267  0.69956 ]\n",
      " [-0.092742  0.68494 ]\n",
      " [-0.21371   0.69225 ]\n",
      " [-0.375     0.50219 ]\n",
      " [-0.51325   0.46564 ]]\n",
      "Type of x_train: <class 'numpy.ndarray'>\n",
      "y_train [1. 1. 1. 1. 1.]\n",
      "Type of y_train: <class 'numpy.ndarray'>\n"
     ]
    }
   ],
   "source": [
    "print(\"x_train\",x_train[:5])\n",
    "print(\"Type of x_train:\",type(x_train))\n",
    "print(\"y_train\",y_train[:5])\n",
    "print(\"Type of y_train:\",type(y_train))"
   ]
  },
  {
   "cell_type": "code",
   "execution_count": 56,
   "metadata": {},
   "outputs": [
    {
     "name": "stdout",
     "output_type": "stream",
     "text": [
      "The shape of x_train is:(118, 2)\n",
      "The shape of y_train is:(118,)\n",
      "The number of training examples is m=118\n"
     ]
    }
   ],
   "source": [
    "print(\"The shape of x_train is:\"+str(x_train.shape))\n",
    "print(\"The shape of y_train is:\"+str(y_train.shape))\n",
    "print(\"The number of training examples is m=\" + str(len(y_train)))\n"
   ]
  },
  {
   "cell_type": "code",
   "execution_count": 57,
   "metadata": {},
   "outputs": [],
   "source": [
    "def plot_data(x,y,positive_label=\"y=1\",negative_label=\"y=0\"):\n",
    "    positive=y==1\n",
    "    negative=y==0\n",
    "\n",
    "    #plot examples\n",
    "    plt.plot(x[positive,0],x[positive,1],\"k+\",label=positive_label)\n",
    "    plt.plot(x[negative,0],x[negative,1],\"yo\",label=negative_label)"
   ]
  },
  {
   "cell_type": "code",
   "execution_count": 58,
   "metadata": {},
   "outputs": [
    {
     "data": {
      "image/png": "[encoded data removed]",
      "text/plain": [
       "<Figure size 640x480 with 1 Axes>"
      ]
     },
     "metadata": {},
     "output_type": "display_data"
    }
   ],
   "source": [
    "plot_data(x_train,y_train[:],positive_label=\"Accepted\", negative_label=\"Rejected\")\n",
    "\n",
    "plt.ylabel(\"Microchip Text 2\")\n",
    "plt.xlabel(\"Microchip Test 1\")\n",
    "plt.legend(loc=\"upper right\")\n",
    "plt.show()"
   ]
  },
  {
   "attachments": {},
   "cell_type": "markdown",
   "metadata": {},
   "source": [
    "FEATURE MAPPING"
   ]
  },
  {
   "cell_type": "code",
   "execution_count": 59,
   "metadata": {},
   "outputs": [],
   "source": [
    "def map_feature(X1, X2):\n",
    "    \"\"\"\n",
    "    Feature mapping function to polynomial features    \n",
    "    \"\"\"\n",
    "    X1 = np.atleast_1d(X1) #These lines ensure that X1 and X2 are converted into NumPy arrays, even if they are initially provided as scalars or lists.\n",
    "    X2 = np.atleast_1d(X2)\n",
    "    degree = 6\n",
    "    out = []\n",
    "    for i in range(1, degree+1):\n",
    "        for j in range(i + 1):\n",
    "            out.append((X1**(i-j) * (X2**j)))\n",
    "    return np.stack(out, axis=1)"
   ]
  },
  {
   "cell_type": "code",
   "execution_count": 60,
   "metadata": {},
   "outputs": [
    {
     "name": "stdout",
     "output_type": "stream",
     "text": [
      "Original shape of data: (118, 2)\n",
      "Shape after feature mapping: (118, 27)\n"
     ]
    }
   ],
   "source": [
    "#As a result of this mapping, our vector of two features (the scores on two QA tests) has been transformed into a 27-dimensional vector.\n",
    "#A logistic regression classifier trained on this higher-dimension feature vector will have a more complex decision boundary and will be nonlinear when drawn in our 2-dimensional plot.\n",
    "\n",
    "print(\"Original shape of data:\", x_train.shape)\n",
    "\n",
    "mapped_x =  map_feature(x_train[:, 0], x_train[:, 1])\n",
    "print(\"Shape after feature mapping:\", mapped_x.shape)"
   ]
  },
  {
   "cell_type": "code",
   "execution_count": 61,
   "metadata": {},
   "outputs": [
    {
     "name": "stdout",
     "output_type": "stream",
     "text": [
      "x_train[0] [0.051267 0.69956 ]\n",
      "mapped x_train[0] [5.12670000e-02 6.99560000e-01 2.62830529e-03 3.58643425e-02\n",
      " 4.89384194e-01 1.34745327e-04 1.83865725e-03 2.50892595e-02\n",
      " 3.42353606e-01 6.90798869e-06 9.42624411e-05 1.28625106e-03\n",
      " 1.75514423e-02 2.39496889e-01 3.54151856e-07 4.83255257e-06\n",
      " 6.59422333e-05 8.99809795e-04 1.22782870e-02 1.67542444e-01\n",
      " 1.81563032e-08 2.47750473e-07 3.38066048e-06 4.61305487e-05\n",
      " 6.29470940e-04 8.58939846e-03 1.17205992e-01]\n"
     ]
    }
   ],
   "source": [
    "print(\"x_train[0]\",x_train[0])\n",
    "print(\"mapped x_train[0]\",mapped_x[0])"
   ]
  },
  {
   "attachments": {},
   "cell_type": "markdown",
   "metadata": {},
   "source": [
    "$J(w.b)=\\frac{1}{m} \\sum \\limits _{i=0} ^{m-1} [-y^{(i)}log(f_{w,b}(x^{(i)}))-(1-y^{(i)})log(1-f_{w,b}(x^{(i)}))]+\\frac{\\lambda}{2m} \\sum \\limits _{j=0} ^{n-1} w_{j} ^{2} $  \n",
    "  \n",
    "Note that we add the regularization term: $\\frac{\\lambda}{2m} \\sum \\limits _{j=0} ^{n-1} w_{j} ^{2}$\n",
    "\n"
   ]
  },
  {
   "cell_type": "code",
   "execution_count": 62,
   "metadata": {},
   "outputs": [],
   "source": [
    "def compute_cost_reg(x,y,w,b,lambda_=1):\n",
    "    \n",
    "    m,n=x.shape\n",
    "    \n",
    "    cost_without_reg=compute_cost(x,y,w,b) # Calls the compute_cost function that you implemented above\n",
    "    reg_cost=0. # I need to calculate this value\n",
    "    reg_cost=sum(np.square(w))\n",
    "    total_cost=cost_without_reg+(lambda_/(2*m))*reg_cost\n",
    "\n",
    "    return total_cost\n"
   ]
  },
  {
   "attachments": {},
   "cell_type": "markdown",
   "metadata": {},
   "source": [
    "$\\frac{\\partial J(w,b)}{\\partial b}= \\frac{1}{m} \\sum \\limits _{i=0} ^{m-1} (f_{w,b}(x^{(i)})-y^{(i)})$  \n",
    "  \n",
    "\n",
    "$\\frac{\\partial J(w,b)}{\\partial w_{j}}= \\frac{1}{m} \\sum \\limits _{i=0} ^{m-1} (f_{w,b}(x^{(i)})-y^{(i)})x_{j}^{(i)})+\\frac{\\lambda}{m} w_{j}$  \n",
    "\n",
    "The only diference between the cost function without regularization and the cost function with regularization is that we add the $\\frac{\\lambda}{m} w_{j} for j=0...(n-1)$\n",
    "  \n"
   ]
  },
  {
   "cell_type": "code",
   "execution_count": 63,
   "metadata": {},
   "outputs": [],
   "source": [
    "def compute_gradient_reg(x,y,w,b,lambda_=1):\n",
    "    m,n=x.shape\n",
    "\n",
    "    dj_db,dj_dww=compute_gradient(x,y,w,b)\n",
    "\n",
    "    for j in range(n):\n",
    "        dj_dw[j]=dj_dw[j]+(lambda_/m)*w[j]\n",
    "    \n",
    "    return dj_db,dj_dw"
   ]
  },
  {
   "cell_type": "code",
   "execution_count": 71,
   "metadata": {},
   "outputs": [
    {
     "ename": "IndexError",
     "evalue": "tuple index out of range",
     "output_type": "error",
     "traceback": [
      "\u001b[1;31m---------------------------------------------------------------------------\u001b[0m",
      "\u001b[1;31mIndexError\u001b[0m                                Traceback (most recent call last)",
      "Cell \u001b[1;32mIn[71], line 3\u001b[0m\n\u001b[0;32m      1\u001b[0m np\u001b[39m.\u001b[39mrandom\u001b[39m.\u001b[39mseed(\u001b[39m1\u001b[39m) \u001b[39m#By setting the seed, you are fixing the sequence of random numbers that will be generated, allowing you to reproduce the same results each time the code is run. It's useful to debug and test the code and to ensure that the random initialization of your model's parameters is consistent across multiple runs.\u001b[39;00m\n\u001b[1;32m----> 3\u001b[0m initial_w\u001b[39m=\u001b[39mnp\u001b[39m.\u001b[39mrandom\u001b[39m.\u001b[39mrand(mapped_x\u001b[39m.\u001b[39;49mshape[\u001b[39m27\u001b[39;49m])\u001b[39m-\u001b[39m\u001b[39m0.5\u001b[39m\n\u001b[0;32m      4\u001b[0m inital_b\u001b[39m=\u001b[39m\u001b[39m1\u001b[39m\n\u001b[0;32m      6\u001b[0m lambda_\u001b[39m=\u001b[39m\u001b[39m0.01\u001b[39m\n",
      "\u001b[1;31mIndexError\u001b[0m: tuple index out of range"
     ]
    }
   ],
   "source": [
    "np.random.seed(1) #By setting the seed, you are fixing the sequence of random numbers that will be generated, allowing you to reproduce the same results each time the code is run. It's useful to debug and test the code and to ensure that the random initialization of your model's parameters is consistent across multiple runs.\n",
    "\n",
    "initial_w=np.random.rand(mapped_x.shape[27])-0.5\n",
    "inital_b=1\n",
    "\n",
    "lambda_=0.01\n",
    "\n",
    "iterations=10000\n",
    "alpha=0.01\n",
    "\n",
    "w,b,J_history,_=gradient_descent(mapped_x,y_train,initial_w,initial_b,compute_cost_reg,compute_gradient_reg,alpha,iterations,lambda_)"
   ]
  }
 ],
 "metadata": {
  "kernelspec": {
   "display_name": "Python 3",
   "language": "python",
   "name": "python3"
  },
  "language_info": {
   "codemirror_mode": {
    "name": "ipython",
    "version": 3
   },
   "file_extension": ".py",
   "mimetype": "text/x-python",
   "name": "python",
   "nbconvert_exporter": "python",
   "pygments_lexer": "ipython3",
   "version": "3.11.2"
  },
  "orig_nbformat": 4
 },
 "nbformat": 4,
 "nbformat_minor": 2
}
