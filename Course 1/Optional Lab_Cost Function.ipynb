{
 "cells": [
  {
   "cell_type": "code",
   "execution_count": 10,
   "metadata": {},
   "outputs": [
    {
     "name": "stderr",
     "output_type": "stream",
     "text": [
      "UsageError: unrecognized arguments: #It allows the plots to be zoomed, panned, and rotated, providing a more interactive and immersive experience for the user\n"
     ]
    }
   ],
   "source": [
    "import numpy as np\n",
    "%matplotlib widget #It allows the plots to be zoomed, panned, and rotated, providing a more interactive and immersive experience for the user\n",
    "import matplotlib.pyplot as plt\n",
    "from lab_utils_uni import plt_intuition, plt_stationary, plt_update_onclick, soup_bowl\n",
    "plt.style.use('./deeplearning.mplstyle')"
   ]
  },
  {
   "cell_type": "code",
   "execution_count": 11,
   "metadata": {},
   "outputs": [
    {
     "name": "stdout",
     "output_type": "stream",
     "text": [
      "x_train=[1.  1.7 2.  2.5 3.  3.2]\n",
      "y_train=[250 300 480 430 630 730]\n"
     ]
    }
   ],
   "source": [
    "x_train = np.array([1.0, 1.7, 2.0, 2.5, 3.0, 3.2])\n",
    "y_train = np.array([250, 300, 480,  430,   630, 730,])\n",
    "print(f\"x_train={x_train}\")\n",
    "print(f\"y_train={y_train}\")\n"
   ]
  },
  {
   "attachments": {},
   "cell_type": "markdown",
   "metadata": {},
   "source": [
    "Compute cost function for linear regression\n",
    "Arguments:\n",
    "   x (ndarray (m,)): Data, m examples \n",
    "   y (ndarray (m,)): target values\n",
    "   w,b (scalar)    : model parameters\n",
    "Returns\n",
    "   total_cost (float): The cost of using w,b as the parameters for linear regression to fit the data points in x and y\n"
   ]
  },
  {
   "cell_type": "code",
   "execution_count": 12,
   "metadata": {},
   "outputs": [],
   "source": [
    "def compute_cost(x,y,w,b):\n",
    "    m=x.shape[0] #extract the number of rows (training examples). x.shape[1] is the number of columns\n",
    "    cost_sum=0\n",
    "    for i in range(m):\n",
    "        f_wb=wx[i]+b\n",
    "        cost=(f_wb-y[i])**2\n",
    "        cost_sum=cost_sum+cost\n",
    "    total_cost=(1/(2*m))*cost_sum\n",
    "    return total_cost\n",
    "\n"
   ]
  }
 ],
 "metadata": {
  "kernelspec": {
   "display_name": "Python 3",
   "language": "python",
   "name": "python3"
  },
  "language_info": {
   "codemirror_mode": {
    "name": "ipython",
    "version": 3
   },
   "file_extension": ".py",
   "mimetype": "text/x-python",
   "name": "python",
   "nbconvert_exporter": "python",
   "pygments_lexer": "ipython3",
   "version": "3.11.2"
  },
  "orig_nbformat": 4,
  "vscode": {
   "interpreter": {
    "hash": "b93d7f58fa87cccc1c54a1bb58fde30533742810013d86233f92d0fba50587f2"
   }
  }
 },
 "nbformat": 4,
 "nbformat_minor": 2
}
